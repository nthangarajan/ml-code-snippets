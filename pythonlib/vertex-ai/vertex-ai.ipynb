{
 "cells": [
  {
   "cell_type": "code",
   "execution_count": null,
   "metadata": {},
   "outputs": [],
   "source": [
    "from google.cloud import aiplatform as vertex\n",
    "project_id = gcphelper.get_project_id() \n",
    "REGION  ='us-west1'\n",
    "\n",
    "vertex.init(project=project_id, location=REGION)\n",
    "\n",
    "pipelines = vertex.PipelineJob.list(\n",
    "    filter=f\"pipeline_name={'fdis-pattern-recognition-mlp-batch'}\", order_by=\"create_time\"\n",
    ")\n",
    "for pipeline in pipelines:\n",
    "    print(pipeline)\n",
    "    print(pipeline.name)\n",
    "    vertex.PipelineJob.delete(pipeline)\n",
    "    print(\"Deleted pipeline:\", pipeline)"
   ]
  }
 ],
 "metadata": {
  "language_info": {
   "name": "python"
  },
  "orig_nbformat": 4
 },
 "nbformat": 4,
 "nbformat_minor": 2
}
