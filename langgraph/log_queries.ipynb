{
 "cells": [
  {
   "cell_type": "code",
   "execution_count": null,
   "id": "d11ce3e3-f939-4dbb-9342-2168481d0358",
   "metadata": {},
   "outputs": [],
   "source": [
    "FILTER = f\"\"\"\n",
    "resource.type = \"cloud_function\"\n",
    "resource.labels.region = \"us-west1\"\n",
    "severity>=DEFAULT\n",
    "textPayload=~\"finished with status: 'crash'\"\n",
    "(resource.labels.function_name = \"orion-kbl-analytics-batch-job-recovery\"\n",
    "OR resource.labels.function_name = \"orion-kbl-analytics-adhoc-job-recovery\"\n",
    "OR resource.labels.function_name = \"orion-kbl-analytics-adhoc-job-trigger\"\n",
    "OR resource.labels.function_name = \"orion-kbl-analytics-batch-job-monitor\"\n",
    "OR resource.labels.function_name = \"orion-kbl-analytics-batch-job-pool\"\n",
    "OR resource.labels.function_name = \"orion-kbl-analytics-batch-job-recovery\"\n",
    "OR resource.labels.function_name = \"orion-kbl-analytics-batch-job-trigger\"\n",
    "OR resource.labels.function_name = \"orion-kbl-analytics-dms-job\"\n",
    "OR resource.labels.function_name = \"orion-kbl-email-notify\"\n",
    "OR resource.labels.function_name = \"orion-kbl-analytics-stage-table-sync\"\n",
    ")\n",
    "timestamp>=\"{previous_four_hour}\" AND timestamp <= \"{current_hour}\"\n",
    "\"\"\"\n",
    "# print (filter_)"
   ]
  },
  {
   "cell_type": "code",
   "execution_count": null,
   "id": "729a9875-a11a-4607-9b4d-03f8d52e4fed",
   "metadata": {},
   "outputs": [],
   "source": [
    "FILTER = f\"\"\"\n",
    "resource.type = \"cloud_function\"\n",
    "resource.labels.region = \"us-west1\"\n",
    "severity>=DEFAULT\n",
    "textPayload: \"Function execution started\"\n",
    "resource.labels.function_name = \"orion-kbl-analytics-batch-job-pool\"\n",
    "timestamp>=\"{previous_four_hour}\" AND timestamp <= \"{current_hour}\"\n",
    "\"\"\"\n",
    "# print (filter_)"
   ]
  }
 ],
 "metadata": {
  "environment": {
   "kernel": "python3",
   "name": "tf2-gpu.2-8.m120",
   "type": "gcloud",
   "uri": "us-docker.pkg.dev/deeplearning-platform-release/gcr.io/tf2-gpu.2-8:m120"
  },
  "kernelspec": {
   "display_name": "Python 3",
   "language": "python",
   "name": "python3"
  },
  "language_info": {
   "codemirror_mode": {
    "name": "ipython",
    "version": 3
   },
   "file_extension": ".py",
   "mimetype": "text/x-python",
   "name": "python",
   "nbconvert_exporter": "python",
   "pygments_lexer": "ipython3",
   "version": "3.10.14"
  }
 },
 "nbformat": 4,
 "nbformat_minor": 5
}
