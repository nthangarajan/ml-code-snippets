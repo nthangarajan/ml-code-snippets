{
 "cells": [
  {
   "cell_type": "code",
   "execution_count": 1,
   "id": "a8857e35-6ec3-4194-8394-6fc1b09462d0",
   "metadata": {
    "tags": []
   },
   "outputs": [],
   "source": [
    "# Ignore harmless warnings\n",
    "import warnings\n",
    "warnings.filterwarnings(\"ignore\")\n",
    "\n",
    "%load_ext autoreload\n",
    "%autoreload 2"
   ]
  },
  {
   "cell_type": "code",
   "execution_count": 2,
   "id": "4928c8b3-c8bc-47f2-a790-0beee316f071",
   "metadata": {
    "tags": []
   },
   "outputs": [],
   "source": [
    "import json"
   ]
  },
  {
   "cell_type": "code",
   "execution_count": 5,
   "id": "976d71d5-9956-4c94-a766-ff456c0ad1bf",
   "metadata": {
    "tags": []
   },
   "outputs": [],
   "source": [
    "from nodes.collect_custom_jobs import handle_collect_custom_jobs\n",
    "from nodes.extract_logs import handle_extract_logs\n",
    "from nodes.check_log_issues import handle_check_log_issues\n",
    "from nodes.find_log_issues import handle_find_log_issues\n",
    "from nodes.find_log_exception import handle_find_log_exception\n",
    "from nodes.extract_execution_steps import handle_extract_execution_steps"
   ]
  },
  {
   "cell_type": "code",
   "execution_count": 6,
   "id": "8f0713a3-05a8-4738-a074-f300fbe209b1",
   "metadata": {
    "tags": []
   },
   "outputs": [],
   "source": [
    "job_states = [\"JOB_STATE_FAILED\", \"JOB_STATE_SUCCEEDED\"]\n",
    "job_states = [\"JOB_STATE_FAILED\"]"
   ]
  },
  {
   "cell_type": "code",
   "execution_count": 10,
   "id": "c339c5fa-37c3-451f-b352-7d09529099bd",
   "metadata": {
    "tags": []
   },
   "outputs": [],
   "source": [
    "# pipeline_run_name = \"fab-10-orion-kbl-analytics-pipeline-batch-2407092015\"\n",
    "pipeline_run_name = 'fab-10-orion-kbl-analytics-pipeline-batch-2406201505'\n",
    "# pipeline_run_name = 'fab-10-orion-kbl-analytics-pipeline-batch-2405290940'"
   ]
  },
  {
   "cell_type": "code",
   "execution_count": 13,
   "id": "176d419a-9b43-4342-85f1-a3a84cbc3e5b",
   "metadata": {
    "tags": []
   },
   "outputs": [
    {
     "name": "stdout",
     "output_type": "stream",
     "text": [
      "----------------------------------------\n",
      "**collect_custom_jobs** working...\n",
      "pipeline_run_name:fab-10-orion-kbl-analytics-pipeline-batch-2406201505\n",
      "custom_job_id_list:['3318659244651184128']\n",
      "custom_job_id_index:0\n",
      "----------------------------------------\n",
      "**extract_logs** working...\n",
      "Log does not exist\n",
      "job_id:3318659244651184128\n"
     ]
    }
   ],
   "source": [
    "state = {\"pipeline_run_name\":pipeline_run_name, \"job_states\":job_states}\n",
    "state = handle_collect_custom_jobs(state)\n",
    "state = handle_extract_logs(state)\n",
    "# state = handle_check_log_issues(state)\n",
    "# state = handle_find_log_issues(state)\n",
    "# state = handle_find_log_exception(state)\n",
    "\n",
    "# state = handle_general_solution(state)\n",
    "# state = handle_extract_execution_steps(state) \n"
   ]
  },
  {
   "cell_type": "code",
   "execution_count": null,
   "id": "65b873d5-7af9-4a0d-bf22-d6a5059f6b4a",
   "metadata": {
    "tags": []
   },
   "outputs": [],
   "source": []
  },
  {
   "cell_type": "code",
   "execution_count": null,
   "id": "3314b4fb-c355-4525-b4c9-316208a1c62a",
   "metadata": {},
   "outputs": [],
   "source": []
  }
 ],
 "metadata": {
  "environment": {
   "kernel": "python3",
   "name": "tf2-gpu.2-8.m120",
   "type": "gcloud",
   "uri": "us-docker.pkg.dev/deeplearning-platform-release/gcr.io/tf2-gpu.2-8:m120"
  },
  "kernelspec": {
   "display_name": "Python 3",
   "language": "python",
   "name": "python3"
  },
  "language_info": {
   "codemirror_mode": {
    "name": "ipython",
    "version": 3
   },
   "file_extension": ".py",
   "mimetype": "text/x-python",
   "name": "python",
   "nbconvert_exporter": "python",
   "pygments_lexer": "ipython3",
   "version": "3.10.14"
  }
 },
 "nbformat": 4,
 "nbformat_minor": 5
}
