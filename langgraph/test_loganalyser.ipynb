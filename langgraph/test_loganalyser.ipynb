{
 "cells": [
  {
   "cell_type": "code",
   "execution_count": 1,
   "id": "ddb12da3-ad55-47a9-8262-eb1813bd94c4",
   "metadata": {
    "tags": []
   },
   "outputs": [],
   "source": [
    "%load_ext autoreload\n",
    "%autoreload 2\n",
    "\n",
    "import warnings\n",
    "warnings.filterwarnings('ignore')"
   ]
  },
  {
   "cell_type": "code",
   "execution_count": 2,
   "id": "98d02afb-35d2-4ebc-9086-33b6115c1126",
   "metadata": {
    "tags": []
   },
   "outputs": [],
   "source": [
    "import base64\n",
    "import json\n",
    "from dateutil.relativedelta import relativedelta\n",
    "from datetime import datetime\n",
    "import datetime"
   ]
  },
  {
   "cell_type": "code",
   "execution_count": 3,
   "id": "d175d744-7468-49ac-91b2-9d3c77bd769a",
   "metadata": {
    "tags": []
   },
   "outputs": [],
   "source": [
    "from typing import List"
   ]
  },
  {
   "cell_type": "code",
   "execution_count": 4,
   "id": "a69e2423-a350-4fe3-bd0d-554d1537f8db",
   "metadata": {
    "tags": []
   },
   "outputs": [],
   "source": [
    "from google.cloud import aiplatform\n",
    "from google.cloud.aiplatform.gapic import JobState"
   ]
  },
  {
   "cell_type": "code",
   "execution_count": 5,
   "id": "7cce6fce-7f3f-4655-87bf-685395d31362",
   "metadata": {
    "tags": []
   },
   "outputs": [],
   "source": [
    "from utils.vertex_ai_utils import get_custom_job_id_list\n",
    "import log_manager"
   ]
  },
  {
   "cell_type": "code",
   "execution_count": 6,
   "id": "7a7faeed-70cd-4c90-a7e8-69caf83c56a8",
   "metadata": {},
   "outputs": [],
   "source": [
    "from llm.google import gemini_flash\n",
    "from llm.google import gemini_pro\n",
    "from llm.groq import llama3 as groq_lllama3"
   ]
  },
  {
   "cell_type": "code",
   "execution_count": 7,
   "id": "e45eeabd-85f7-41f0-a820-fb814cf72476",
   "metadata": {
    "tags": []
   },
   "outputs": [],
   "source": [
    "job_states = [\"JOB_STATE_FAILED\", \"JOB_STATE_SUCCEEDED\"]\n",
    "job_states = [\"JOB_STATE_FAILED\"]"
   ]
  },
  {
   "cell_type": "code",
   "execution_count": 8,
   "id": "807dd6b2-f109-4e10-9acd-8650c274d8a6",
   "metadata": {
    "tags": []
   },
   "outputs": [
    {
     "name": "stderr",
     "output_type": "stream",
     "text": [
      "WARNING: All log messages before absl::InitializeLog() is called are written to STDERR\n",
      "I0000 00:00:1721185145.110687   25719 config.cc:230] gRPC experiments enabled: call_status_override_on_cancellation, event_engine_dns, event_engine_listener, http2_stats_fix, monitoring_experiment, pick_first_new, trace_record_callops, work_serializer_clears_time_cache, work_serializer_dispatch\n",
      "I0000 00:00:1721185145.145423   25719 ev_epoll1_linux.cc:125] grpc epoll fd: 56\n",
      "I0000 00:00:1721185145.549042   25843 tcp_posix.cc:809] IOMGR endpoint shutdown\n",
      "I0000 00:00:1721185146.269896   25850 tcp_posix.cc:809] IOMGR endpoint shutdown\n",
      "I0000 00:00:1721185146.272154   25850 work_stealing_thread_pool.cc:269] WorkStealingThreadPoolImpl::Quiesce\n"
     ]
    }
   ],
   "source": [
    "# pipeline_run_name = \"fab-10-orion-kbl-analytics-pipeline-batch-2407092015\"\n",
    "pipeline_run_name = 'fab-10-orion-kbl-analytics-pipeline-batch-2406201505'\n",
    "# pipeline_run_name = 'fab-10-orion-kbl-analytics-pipeline-batch-2405290940'\n",
    "custom_job_id_list = get_custom_job_id_list(pipeline_run_name = pipeline_run_name,\n",
    "                                          job_states = job_states)"
   ]
  },
  {
   "cell_type": "code",
   "execution_count": 9,
   "id": "d9e1fe77-1c6e-433b-bb5d-a407a6917b1e",
   "metadata": {
    "tags": []
   },
   "outputs": [],
   "source": [
    "job_id = custom_job_id_list[0]\n",
    "job_id = 7606086089907896320\n",
    "job_id = 4082988600990367744\n",
    "# job_id = 3318659244651184128\n",
    "# job_id = 921461662576279552"
   ]
  },
  {
   "cell_type": "code",
   "execution_count": 88,
   "id": "828c8dd0-5505-4d8a-afa6-2dccc1d9581d",
   "metadata": {
    "tags": []
   },
   "outputs": [
    {
     "name": "stdout",
     "output_type": "stream",
     "text": [
      "\u001b[38;20m2024-07-09 20:35:36,275 - INFO | KBL VERTEX PIPELINE ID: 2407092015\u001b[0m\n",
      "\u001b[38;20m2024-07-09 20:35:36,297 - INFO | project_id: gdw-dev-orion-streaming\u001b[0m\n",
      "\u001b[38;20m2024-07-09 20:35:36,297 - INFO | fab_name: fab-10\u001b[0m\n",
      "\u001b[38;20m2024-07-09 20:35:36,298 - INFO | pipeline_name: orion-kbl-analytics-pipeline\u001b[0m\n",
      "\u001b[38;20m2024-07-09 20:35:36,298 - INFO | batch_id: 2407092015\u001b[0m\n",
      "\u001b[38;20m2024-07-09 20:35:36,298 - INFO | BatchResultsUpdater initialized\u001b[0m\n",
      "\u001b[38;20m2024-07-09 20:35:36,298 - INFO | fab_10|2407092015 AnalyticsKblJobResults initialized\u001b[0m\n",
      "\u001b[38;20m2024-07-09 20:35:36,298 - INFO | fab_10|2407092015 AnalyticsKblJobSamples initialized\u001b[0m\n",
      "\u001b[38;20m2024-07-09 20:35:36,298 - INFO | AnalyticsKblBatchJobStage initialized\u001b[0m\n",
      "\u001b[38;20m2024-07-09 20:35:36,299 - INFO | AnalyticsKblBatchJob initialized\u001b[0m\n",
      "\u001b[38;20m2024-07-09 20:35:36,299 - INFO | AnalyticsKblBatchJobTrigger initialized\u001b[0m\n",
      "\u001b[38;20m2024-07-09 20:35:36,300 - INFO | orion-kbl-analytics-pipeline|fab-10|2407092015|ResultUpdater|execution started\u001b[0m\n",
      "\u001b[38;20m2024-07-09 20:35:36,300 - INFO | orion-kbl-analytics-pipeline|fab-10|2407092015|ResultUpdater|fab-10 Batch_Id:2407092015 update_job_status_into_bq execution started\u001b[0m\n",
      "\u001b[38;20m2024-07-09 20:35:36,349 - INFO | GCS: Blob read file: gs://gdw-dev-orion-streaming-kbl/orion-kbl-data/fab-10/batch/2024-07/2407092015/partition_10_job_status.csv\u001b[0m\n",
      "\u001b[38;20m2024-07-09 20:35:36,430 - INFO | GCS: Blob read file: gs://gdw-dev-orion-streaming-kbl/orion-kbl-data/fab-10/batch/2024-07/2407092015/partition_11_job_status.csv\u001b[0m\n",
      "\u001b[38;20m2024-07-09 20:35:36,495 - INFO | GCS: Blob read file: gs://gdw-dev-orion-streaming-kbl/orion-kbl-data/fab-10/batch/2024-07/2407092015/partition_12_job_status.csv\u001b[0m\n",
      "\u001b[38;20m2024-07-09 20:35:36,551 - INFO | GCS: Blob read file: gs://gdw-dev-orion-streaming-kbl/orion-kbl-data/fab-10/batch/2024-07/2407092015/partition_13_job_status.csv\u001b[0m\n",
      "\u001b[38;20m2024-07-09 20:35:36,702 - INFO | GCS: Blob read file: gs://gdw-dev-orion-streaming-kbl/orion-kbl-data/fab-10/batch/2024-07/2407092015/partition_14_job_status.csv\u001b[0m\n",
      "\u001b[38;20m2024-07-09 20:35:36,764 - INFO | GCS: Blob read file: gs://gdw-dev-orion-streaming-kbl/orion-kbl-data/fab-10/batch/2024-07/2407092015/partition_15_job_status.csv\u001b[0m\n",
      "\u001b[38;20m2024-07-09 20:35:36,830 - INFO | GCS: Blob read file: gs://gdw-dev-orion-streaming-kbl/orion-kbl-data/fab-10/batch/2024-07/2407092015/partition_16_job_status.csv\u001b[0m\n",
      "\u001b[38;20m2024-07-09 20:35:36,906 - INFO | GCS: Blob read file: gs://gdw-dev-orion-streaming-kbl/orion-kbl-data/fab-10/batch/2024-07/2407092015/partition_17_job_status.csv\u001b[0m\n",
      "\u001b[38;20m2024-07-09 20:35:36,992 - INFO | GCS: Blob read file: gs://gdw-dev-orion-streaming-kbl/orion-kbl-data/fab-10/batch/2024-07/2407092015/partition_18_job_status.csv\u001b[0m\n",
      "\u001b[38;20m2024-07-09 20:35:37,057 - INFO | GCS: Blob read file: gs://gdw-dev-orion-streaming-kbl/orion-kbl-data/fab-10/batch/2024-07/2407092015/partition_1_job_status.csv\u001b[0m\n",
      "\u001b[38;20m2024-07-09 20:35:37,138 - INFO | GCS: Blob read file: gs://gdw-dev-orion-streaming-kbl/orion-kbl-data/fab-10/batch/2024-07/2407092015/partition_2_job_status.csv\u001b[0m\n",
      "\u001b[38;20m2024-07-09 20:35:37,221 - INFO | GCS: Blob read file: gs://gdw-dev-orion-streaming-kbl/orion-kbl-data/fab-10/batch/2024-07/2407092015/partition_3_job_status.csv\u001b[0m\n",
      "\u001b[38;20m2024-07-09 20:35:37,284 - INFO | GCS: Blob read file: gs://gdw-dev-orion-streaming-kbl/orion-kbl-data/fab-10/batch/2024-07/2407092015/partition_4_job_status.csv\u001b[0m\n",
      "\u001b[38;20m2024-07-09 20:35:37,351 - INFO | GCS: Blob read file: gs://gdw-dev-orion-streaming-kbl/orion-kbl-data/fab-10/batch/2024-07/2407092015/partition_5_job_status.csv\u001b[0m\n",
      "\u001b[38;20m2024-07-09 20:35:37,421 - INFO | GCS: Blob read file: gs://gdw-dev-orion-streaming-kbl/orion-kbl-data/fab-10/batch/2024-07/2407092015/partition_6_job_status.csv\u001b[0m\n",
      "\u001b[38;20m2024-07-09 20:35:37,516 - INFO | GCS: Blob read file: gs://gdw-dev-orion-streaming-kbl/orion-kbl-data/fab-10/batch/2024-07/2407092015/partition_7_job_status.csv\u001b[0m\n",
      "\u001b[38;20m2024-07-09 20:35:37,582 - INFO | GCS: Blob read file: gs://gdw-dev-orion-streaming-kbl/orion-kbl-data/fab-10/batch/2024-07/2407092015/partition_8_job_status.csv\u001b[0m\n",
      "\u001b[38;20m2024-07-09 20:35:37,652 - INFO | GCS: Blob read file: gs://gdw-dev-orion-streaming-kbl/orion-kbl-data/fab-10/batch/2024-07/2407092015/partition_9_job_status.csv\u001b[0m\n",
      "\u001b[38;20m2024-07-09 20:35:37,733 - INFO | fab-10|Batch_Id:2407092015 GCS Records count rows:18 columns:4 \u001b[0m\n",
      "\u001b[38;20m2024-07-09 20:35:37,733 - INFO | fab-10 Batch_Id:2407092015 job status record count rows:18 columns:4 \u001b[0m\n",
      "\u001b[38;20m2024-07-09 20:35:37,734 - INFO | AnalyticsKblBatchJobStage df_status rows (remove duplicates) :18 columns:4 \u001b[0m\n",
      "\u001b[38;20m2024-07-09 20:35:37,734 - INFO | AnalyticsKblBatchJobStage existing results deleted started\u001b[0m\n",
      "\u001b[38;20m2024-07-09 20:35:40,813 - INFO | BigQuery: Processed data size: --4.52 MB.--\u001b[0m\n",
      "\u001b[38;20m2024-07-09 20:35:40,813 - INFO | AnalyticsKblBatchJobStage existing records deleted completed successfully\u001b[0m\n",
      "\u001b[38;20m2024-07-09 20:35:40,813 - INFO | AnalyticsKblBatchJobStage df_status rows:18 columns:4 \u001b[0m\n",
      "\u001b[38;20m2024-07-09 20:35:44,256 - INFO | AnalyticsKblBatchJobStage uploaded to staging table\u001b[0m\n",
      "\u001b[38;20m2024-07-09 20:35:48,005 - INFO | BigQuery: Processed data size: --46.76 MB.--\u001b[0m\n",
      "\u001b[38;20m2024-07-09 20:35:48,005 - INFO | orion-kbl-analytics-pipeline|fab-10|2407092015|ResultUpdater|fab-10 Batch_Id:2407092015 update_job_status_into_bq execution completed successfully\u001b[0m\n",
      "\u001b[38;20m2024-07-09 20:35:48,005 - INFO | orion-kbl-analytics-pipeline|fab-10|2407092015|ResultUpdater|fab-10 Batch_Id:2407092015 update_job_status_into_bq execution time= 0:00:11.704911: \u001b[0m\n",
      "\u001b[38;20m2024-07-09 20:35:48,005 - INFO | orion-kbl-analytics-pipeline|fab-10|2407092015|ResultUpdater|fab-10 Batch_Id:2407092015 upload_job_results_into_bq execution started\u001b[0m\n",
      "\u001b[38;20m2024-07-09 20:35:48,044 - INFO | GCS: Blob read file: gs://gdw-dev-orion-streaming-kbl/orion-kbl-data/fab-10/batch/2024-07/2407092015/2407092015001_results.csv\u001b[0m\n",
      "\u001b[38;20m2024-07-09 20:35:48,144 - INFO | GCS: Blob read file: gs://gdw-dev-orion-streaming-kbl/orion-kbl-data/fab-10/batch/2024-07/2407092015/2407092015002_results.csv\u001b[0m\n",
      "\u001b[38;20m2024-07-09 20:35:48,200 - INFO | GCS: Blob read file: gs://gdw-dev-orion-streaming-kbl/orion-kbl-data/fab-10/batch/2024-07/2407092015/2407092015003_results.csv\u001b[0m\n",
      "\u001b[38;20m2024-07-09 20:35:48,278 - INFO | GCS: Blob read file: gs://gdw-dev-orion-streaming-kbl/orion-kbl-data/fab-10/batch/2024-07/2407092015/2407092015004_results.csv\u001b[0m\n",
      "\u001b[38;20m2024-07-09 20:35:48,369 - INFO | GCS: Blob read file: gs://gdw-dev-orion-streaming-kbl/orion-kbl-data/fab-10/batch/2024-07/2407092015/2407092015005_results.csv\u001b[0m\n",
      "\u001b[38;20m2024-07-09 20:35:48,482 - INFO | GCS: Blob read file: gs://gdw-dev-orion-streaming-kbl/orion-kbl-data/fab-10/batch/2024-07/2407092015/2407092015006_results.csv\u001b[0m\n",
      "\u001b[38;20m2024-07-09 20:35:48,573 - INFO | GCS: Blob read file: gs://gdw-dev-orion-streaming-kbl/orion-kbl-data/fab-10/batch/2024-07/2407092015/2407092015007_results.csv\u001b[0m\n",
      "\u001b[38;20m2024-07-09 20:35:48,651 - INFO | GCS: Blob read file: gs://gdw-dev-orion-streaming-kbl/orion-kbl-data/fab-10/batch/2024-07/2407092015/2407092015008_results.csv\u001b[0m\n",
      "\u001b[38;20m2024-07-09 20:35:48,730 - INFO | GCS: Blob read file: gs://gdw-dev-orion-streaming-kbl/orion-kbl-data/fab-10/batch/2024-07/2407092015/2407092015009_results.csv\u001b[0m\n",
      "\u001b[38;20m2024-07-09 20:35:48,822 - INFO | GCS: Blob read file: gs://gdw-dev-orion-streaming-kbl/orion-kbl-data/fab-10/batch/2024-07/2407092015/2407092015010_results.csv\u001b[0m\n",
      "\u001b[38;20m2024-07-09 20:35:48,896 - INFO | GCS: Blob read file: gs://gdw-dev-orion-streaming-kbl/orion-kbl-data/fab-10/batch/2024-07/2407092015/2407092015011_results.csv\u001b[0m\n",
      "\u001b[38;20m2024-07-09 20:35:49,028 - INFO | GCS: Blob read file: gs://gdw-dev-orion-streaming-kbl/orion-kbl-data/fab-10/batch/2024-07/2407092015/2407092015012_results.csv\u001b[0m\n",
      "\u001b[38;20m2024-07-09 20:35:49,177 - INFO | GCS: Blob read file: gs://gdw-dev-orion-streaming-kbl/orion-kbl-data/fab-10/batch/2024-07/2407092015/2407092015013_results.csv\u001b[0m\n",
      "\u001b[38;20m2024-07-09 20:35:49,280 - INFO | GCS: Blob read file: gs://gdw-dev-orion-streaming-kbl/orion-kbl-data/fab-10/batch/2024-07/2407092015/2407092015014_results.csv\u001b[0m\n",
      "\u001b[38;20m2024-07-09 20:35:49,346 - INFO | GCS: Blob read file: gs://gdw-dev-orion-streaming-kbl/orion-kbl-data/fab-10/batch/2024-07/2407092015/2407092015015_results.csv\u001b[0m\n",
      "\u001b[38;20m2024-07-09 20:35:49,459 - INFO | GCS: Blob read file: gs://gdw-dev-orion-streaming-kbl/orion-kbl-data/fab-10/batch/2024-07/2407092015/2407092015017_results.csv\u001b[0m\n",
      "\u001b[38;20m2024-07-09 20:35:49,530 - INFO | GCS: Blob read file: gs://gdw-dev-orion-streaming-kbl/orion-kbl-data/fab-10/batch/2024-07/2407092015/2407092015018_results.csv\u001b[0m\n",
      "\u001b[38;20m2024-07-09 20:35:49,612 - INFO | GCS: Blob read file: gs://gdw-dev-orion-streaming-kbl/orion-kbl-data/fab-10/batch/2024-07/2407092015/2407092015019_results.csv\u001b[0m\n",
      "\u001b[38;20m2024-07-09 20:35:49,692 - INFO | fab-10|Batch_Id:2407092015 GCS Records count rows:45918 columns:21 \u001b[0m\n",
      "\u001b[38;20m2024-07-09 20:35:49,692 - INFO | orion-kbl-analytics-pipeline|fab-10|2407092015|ResultUpdater|fab-10 Batch_Id:2407092015 job results record count rows:45918 columns:21 \u001b[0m\n",
      "\u001b[38;20m2024-07-09 20:35:49,692 - INFO | fab-10|Batch_Id:2407092015 get_formatted_results_dataframe execution started\u001b[0m\n",
      "/usr/local/lib/python3.10/site-packages/orion_kbl_analytics_lib/analytics/job_results_utils.py:132: SettingWithCopyWarning: \n",
      "A value is trying to be set on a copy of a slice from a DataFrame.\n",
      "Try using .loc[row_indexer,col_indexer] = value instead\n",
      "\n",
      "See the caveats in the documentation: https://pandas.pydata.org/pandas-docs/stable/user_guide/indexing.html#returning-a-view-versus-a-copy\n",
      "  df_results_formatted['p_value'] = df_results_formatted['p_value'].round(36).astype(pd.ArrowDtype(pa.decimal256(56, 36)))\n",
      "/usr/local/lib/python3.10/site-packages/orion_kbl_analytics_lib/analytics/job_results_utils.py:134: SettingWithCopyWarning: \n",
      "  df_results_formatted['job_id'] = df_results_formatted['job_id'].astype(int)\n",
      "/usr/local/lib/python3.10/site-packages/orion_kbl_analytics_lib/analytics/job_results_utils.py:137: SettingWithCopyWarning: \n",
      "  df_results_formatted['p_value_rank'] = df_results_formatted['p_value_rank'].astype(str).map(decimal.Decimal)\n",
      "/usr/local/lib/python3.10/site-packages/orion_kbl_analytics_lib/analytics/job_results_utils.py:138: SettingWithCopyWarning: \n",
      "  df_results_formatted['p_value_rank_ooch'] = df_results_formatted['p_value_rank_ooch'].astype(str).map(decimal.Decimal)\n",
      "/usr/local/lib/python3.10/site-packages/orion_kbl_analytics_lib/analytics/job_results_utils.py:139: SettingWithCopyWarning: \n",
      "  df_results_formatted['p_value_rank_oocl'] = df_results_formatted['p_value_rank_oocl'].astype(str).map(decimal.Decimal)\n",
      "\u001b[38;20m2024-07-09 20:35:49,875 - INFO | fab-10|Batch_Id:2407092015 get_formatted_results_dataframe execution time= 0:00:00.182876: \u001b[0m\n",
      "\u001b[38;20m2024-07-09 20:35:52,139 - INFO | BigQuery: Processed data size: --0B.--\u001b[0m\n",
      "\u001b[38;20m2024-07-09 20:35:52,140 - INFO | fab_10|2407092015 job results records does not exist\u001b[0m\n",
      "\u001b[38;20m2024-07-09 20:35:59,868 - INFO | orion-kbl-analytics-pipeline|fab-10|2407092015|ResultUpdater|fab-10 Batch_Id:2407092015 upload_job_results_into_bq execution completed successfully\u001b[0m\n",
      "\u001b[38;20m2024-07-09 20:35:59,868 - INFO | orion-kbl-analytics-pipeline|fab-10|2407092015|ResultUpdater|fab-10 Batch_Id:2407092015 upload_job_results_into_bq execution time= 0:00:11.862686: \u001b[0m\n",
      "\u001b[38;20m2024-07-09 20:35:59,868 - INFO | orion-kbl-analytics-pipeline|fab-10|2407092015|ResultUpdater|fab-10 Batch_Id:2407092015 upload_job_samples_into_bq execution started\u001b[0m\n",
      "\u001b[38;20m2024-07-09 20:35:59,908 - INFO | GCS: Blob read file: gs://gdw-dev-orion-streaming-kbl/orion-kbl-data/fab-10/batch/2024-07/2407092015/2407092015001_samples.csv\u001b[0m\n",
      "\u001b[38;20m2024-07-09 20:36:00,932 - INFO | GCS: Blob read file: gs://gdw-dev-orion-streaming-kbl/orion-kbl-data/fab-10/batch/2024-07/2407092015/2407092015002_samples.csv\u001b[0m\n",
      "\u001b[38;20m2024-07-09 20:36:01,084 - INFO | GCS: Blob read file: gs://gdw-dev-orion-streaming-kbl/orion-kbl-data/fab-10/batch/2024-07/2407092015/2407092015003_samples.csv\u001b[0m\n",
      "\u001b[38;20m2024-07-09 20:36:02,205 - INFO | GCS: Blob read file: gs://gdw-dev-orion-streaming-kbl/orion-kbl-data/fab-10/batch/2024-07/2407092015/2407092015004_samples.csv\u001b[0m\n",
      "\u001b[38;20m2024-07-09 20:36:03,437 - INFO | GCS: Blob read file: gs://gdw-dev-orion-streaming-kbl/orion-kbl-data/fab-10/batch/2024-07/2407092015/2407092015005_samples.csv\u001b[0m\n",
      "\u001b[38;20m2024-07-09 20:36:04,275 - INFO | GCS: Blob read file: gs://gdw-dev-orion-streaming-kbl/orion-kbl-data/fab-10/batch/2024-07/2407092015/2407092015006_samples.csv\u001b[0m\n",
      "\u001b[38;20m2024-07-09 20:36:04,959 - INFO | GCS: Blob read file: gs://gdw-dev-orion-streaming-kbl/orion-kbl-data/fab-10/batch/2024-07/2407092015/2407092015007_samples.csv\u001b[0m\n",
      "\u001b[38;20m2024-07-09 20:36:05,697 - INFO | GCS: Blob read file: gs://gdw-dev-orion-streaming-kbl/orion-kbl-data/fab-10/batch/2024-07/2407092015/2407092015008_samples.csv\u001b[0m\n",
      "\u001b[38;20m2024-07-09 20:36:06,472 - INFO | GCS: Blob read file: gs://gdw-dev-orion-streaming-kbl/orion-kbl-data/fab-10/batch/2024-07/2407092015/2407092015009_samples.csv\u001b[0m\n",
      "\u001b[38;20m2024-07-09 20:36:07,099 - INFO | GCS: Blob read file: gs://gdw-dev-orion-streaming-kbl/orion-kbl-data/fab-10/batch/2024-07/2407092015/2407092015010_samples.csv\u001b[0m\n",
      "\u001b[38;20m2024-07-09 20:36:07,878 - INFO | GCS: Blob read file: gs://gdw-dev-orion-streaming-kbl/orion-kbl-data/fab-10/batch/2024-07/2407092015/2407092015011_samples.csv\u001b[0m\n",
      "\u001b[38;20m2024-07-09 20:36:08,664 - INFO | GCS: Blob read file: gs://gdw-dev-orion-streaming-kbl/orion-kbl-data/fab-10/batch/2024-07/2407092015/2407092015012_samples.csv\u001b[0m\n",
      "\u001b[38;20m2024-07-09 20:36:09,383 - INFO | GCS: Blob read file: gs://gdw-dev-orion-streaming-kbl/orion-kbl-data/fab-10/batch/2024-07/2407092015/2407092015013_samples.csv\u001b[0m\n",
      "\u001b[38;20m2024-07-09 20:36:10,162 - INFO | GCS: Blob read file: gs://gdw-dev-orion-streaming-kbl/orion-kbl-data/fab-10/batch/2024-07/2407092015/2407092015014_samples.csv\u001b[0m\n",
      "\u001b[38;20m2024-07-09 20:36:11,031 - INFO | GCS: Blob read file: gs://gdw-dev-orion-streaming-kbl/orion-kbl-data/fab-10/batch/2024-07/2407092015/2407092015015_samples.csv\u001b[0m\n",
      "\u001b[38;20m2024-07-09 20:36:12,113 - INFO | GCS: Blob read file: gs://gdw-dev-orion-streaming-kbl/orion-kbl-data/fab-10/batch/2024-07/2407092015/2407092015017_samples.csv\u001b[0m\n",
      "\u001b[38;20m2024-07-09 20:36:12,540 - INFO | GCS: Blob read file: gs://gdw-dev-orion-streaming-kbl/orion-kbl-data/fab-10/batch/2024-07/2407092015/2407092015018_samples.csv\u001b[0m\n",
      "\u001b[38;20m2024-07-09 20:36:12,828 - INFO | GCS: Blob read file: gs://gdw-dev-orion-streaming-kbl/orion-kbl-data/fab-10/batch/2024-07/2407092015/2407092015019_samples.csv\u001b[0m\n",
      "\u001b[38;20m2024-07-09 20:36:13,268 - INFO | fab-10|Batch_Id:2407092015 GCS Records count rows:4881722 columns:5 \u001b[0m\n",
      "\u001b[38;20m2024-07-09 20:36:13,269 - INFO | orion-kbl-analytics-pipeline|fab-10|2407092015|ResultUpdater|fab-10 Batch_Id:2407092015 job samples record count rows:4881722 columns:5 \u001b[0m\n",
      "\u001b[38;20m2024-07-09 20:36:13,269 - INFO | fab-10|Batch_Id:2407092015 get_formatted_samples_dataframe execution started\u001b[0m\n",
      "\u001b[38;20m2024-07-09 20:36:26,552 - INFO | fab-10|Batch_Id:2407092015 upload_job_df_samples_into_bq execution time= 0:00:13.283480: \u001b[0m\n",
      "\u001b[38;20m2024-07-09 20:36:27,929 - INFO | BigQuery: Processed data size: --0B.--\u001b[0m\n",
      "\u001b[38;20m2024-07-09 20:36:27,929 - INFO | fab_10|2407092015 job samples records does not exist\u001b[0m\n",
      "\u001b[38;20m2024-07-09 20:36:50,037 - INFO | orion-kbl-analytics-pipeline|fab-10|2407092015|ResultUpdater|fab-10 Batch_Id:2407092015 upload_job_samples_into_bq execution completed successfully\u001b[0m\n",
      "\u001b[38;20m2024-07-09 20:36:50,037 - INFO | orion-kbl-analytics-pipeline|fab-10|2407092015|ResultUpdater|fab-10 Batch_Id:2407092015 upload_job_samples_into_bq execution time= 0:00:50.168550: \u001b[0m\n",
      "\u001b[38;20m2024-07-09 20:36:50,037 - INFO | AnalyticsKblBatchJobTrigger:update_batch_status_by_batch_id execution started\u001b[0m\n",
      "\u001b[38;20m2024-07-09 20:36:50,037 - INFO | \n",
      "        UPDATE gdw-dev-orion-streaming.fab_10_orion.ecap_analytics_kbl_batch_job_trigger\n",
      "        SET \n",
      "        batch_status = 'succeed',\n",
      "        updated_time = CURRENT_TIMESTAMP()\n",
      "        ,batch_remarks = ''\n",
      "        WHERE \n",
      "        batch_id = 2407092015\n",
      "        \u001b[0m\n",
      "\u001b[38;20m2024-07-09 20:36:53,188 - INFO | BigQuery: Processed data size: --1.46 MB.--\u001b[0m\n",
      "\u001b[38;20m2024-07-09 20:36:53,189 - INFO | AnalyticsKblBatchJobTrigger:update_batch_status_by_batch_id execution completed\u001b[0m\n",
      "\u001b[38;20m2024-07-09 20:36:53,189 - INFO | orion-kbl-analytics-pipeline|fab-10|2407092015|ResultUpdater|execution completed\u001b[0m\n",
      "\u001b[38;20m2024-07-09 20:36:53,189 - INFO | orion-kbl-analytics-pipeline|fab-10|2407092015|ResultUpdater|fab-10 Batch_Id:2407092015 execution completed successfully\u001b[0m\n",
      "\u001b[38;20m2024-07-09 20:36:53,189 - INFO | orion-kbl-analytics-pipeline|fab-10|2407092015|ResultUpdater|fab-10 Batch_Id:2407092015 execution time= 0:01:16.889166: \u001b[0m\n"
     ]
    }
   ],
   "source": [
    "log_content = log_manager.get_logs_for_customjob(job_id = job_id)\n",
    "print(log_content)"
   ]
  },
  {
   "cell_type": "code",
   "execution_count": 89,
   "id": "56ff1720-e12b-40d7-b3c5-b98aaba14fe6",
   "metadata": {
    "tags": []
   },
   "outputs": [],
   "source": [
    "from llm.google import gemini_flash\n",
    "from llm.google import gemini_pro\n",
    "from llm.groq import llama3 as groq_lllama3"
   ]
  },
  {
   "cell_type": "code",
   "execution_count": 94,
   "id": "8b96b82c-8266-405a-8d22-8ab70de4157d",
   "metadata": {
    "tags": []
   },
   "outputs": [
    {
     "name": "stdout",
     "output_type": "stream",
     "text": [
      "no \n",
      "\n"
     ]
    }
   ],
   "source": [
    "prompt  = f\"\"\"You are a experienced in Application Log Analyser.\n",
    "Each log entries are ordered in sequencial manner.\n",
    "You will be provided the log entries by triple backticks\n",
    "```\n",
    "{log_content} \n",
    "```\n",
    "Ignore any warnings and any deprecated messages from log entries\n",
    "Give a binary score 'yes' or 'no' score only to indicate whether log entries have issues/exception/error\n",
    "\"\"\"\n",
    "# print(prompt)\n",
    "result = gemini_flash.invoke(prompt).content\n",
    "print(result)"
   ]
  },
  {
   "cell_type": "code",
   "execution_count": 95,
   "id": "c06abf16-3ca0-404b-8d0c-7dbe52e006f3",
   "metadata": {},
   "outputs": [],
   "source": [
    "# What is key error, exception with message, file_name in json format only"
   ]
  },
  {
   "cell_type": "code",
   "execution_count": 97,
   "id": "7a33c6e7-2c5d-4427-bda0-1f216f4e1ebd",
   "metadata": {
    "tags": []
   },
   "outputs": [
    {
     "name": "stdout",
     "output_type": "stream",
     "text": [
      "```json\n",
      "{\n",
      "  \"exception\": null,\n",
      "  \"info\": \"No key error found in the provided logs.\",\n",
      "  \"file_name\": null\n",
      "}\n",
      "```\n"
     ]
    }
   ],
   "source": [
    "prompt  = f\"\"\"You are a experienced Google Cloud Log Analyser from application.\n",
    "You will be provided the log entries by triple backticks\n",
    "```\n",
    "{log_content} \n",
    "```\n",
    "Strictly Ignore any warning and deprecated messages from log entries\n",
    "What is key error, exception with message in json format only\n",
    "Your response must be a JSON object has the following schema:\n",
    "* exception: exception message from log entries\n",
    "* info: description of key error \n",
    "* file_name : only name of file where have issues\n",
    "\"\"\"\n",
    "# print(prompt)\n",
    "result = gemini_flash.invoke(prompt).content\n",
    "print(result)"
   ]
  },
  {
   "cell_type": "code",
   "execution_count": 99,
   "id": "182208fc-ddac-4104-94d3-0c06ffd43a80",
   "metadata": {
    "tags": []
   },
   "outputs": [
    {
     "name": "stdout",
     "output_type": "stream",
     "text": [
      "```python\n",
      "Traceback (most recent call last):\n",
      "  File \"/usr/local/lib/python3.10/site-packages/orion_kbl_analytics_lib/analytics/job_results_utils.py\", line 132, in <module>\n",
      "    df_results_formatted['p_value'] = df_results_formatted['p_value'].round(36).astype(pd.ArrowDtype(pa.decimal256(56, 36)))\n",
      "  File \"/usr/local/lib/python3.10/site-packages/pandas/core/frame.py\", line 3817, in __getitem__\n",
      "    indexer = self._get_indexer_for_level(key, axis=axis)\n",
      "  File \"/usr/local/lib/python3.10/site-packages/pandas/core/frame.py\", line 4021, in _get_indexer_for_level\n",
      "    return self.columns.get_loc(key)\n",
      "  File \"/usr/local/lib/python3.10/site-packages/pandas/core/indexes/base.py\", line 3127, in get_loc\n",
      "    return self._engine.get_loc(key)\n",
      "  File \"pandas/_libs/index.pyx\", line 157, in pandas._libs.index.IndexEngine.get_loc\n",
      "  File \"pandas/_libs/index.pyx\", line 177, in pandas._libs.index.IndexEngine.get_loc\n",
      "  File \"pandas/_libs/index.pyx\", line 204, in pandas._libs.index.IndexEngine.get_loc\n",
      "  File \"pandas/_libs/hashtable_class_helper.pxi\", line 4578, in pandas._libs.hashtable.PyObjectHashTable.get_item\n",
      "  File \"pandas/_libs/hashtable_class_helper.pxi\", line 4602, in pandas._libs.hashtable.PyObjectHashTable.get_item\n",
      "KeyError: 'p_value'\n",
      "```\n"
     ]
    }
   ],
   "source": [
    "prompt  = f\"\"\"You are a experienced Google Cloud Log Analysis Expert.\n",
    "Each log entries are ordered in sequencial manner.\n",
    "You will be provided the log entries by triple backticks\n",
    "```\n",
    "{log_content} \n",
    "```\n",
    "Strictly Ignore any warning and deprecated messages from log entries\n",
    "Extract all the python Traceback only if ant key error or exception without duplicate from orion_kbl_analytics_lib in file modules only\n",
    "\"\"\"\n",
    "# print(prompt)\n",
    "result = gemini_flash.invoke(prompt).content\n",
    "print(result)"
   ]
  },
  {
   "cell_type": "code",
   "execution_count": 101,
   "id": "486623d9-da74-4dc2-a18a-31e3a9264c74",
   "metadata": {
    "tags": []
   },
   "outputs": [
    {
     "name": "stdout",
     "output_type": "stream",
     "text": [
      "yes \n",
      "\n"
     ]
    }
   ],
   "source": [
    "prompt  = f\"\"\"You are a experienced Google Cloud Log Analyser from application.\n",
    "Each log entries are ordered in sequencial manner.\n",
    "You will be provided the log entries by triple backticks\n",
    "```\n",
    "{log_content} \n",
    "```\n",
    "Strictly Ignore any warning from log entries\n",
    "Give a binary score 'yes' or 'no' score only to indicate whether log entries contains completed SQL Query Statement from log entries\n",
    "\"\"\"\n",
    "# print(prompt)\n",
    "result = gemini_flash.invoke(prompt).content\n",
    "print(result)\n",
    "\n",
    "if result == 'yes':\n",
    "    prompt  = f\"\"\"You are a experienced Google Cloud Log Analyser from application.\n",
    "    Each log entries are ordered in sequencial manner.\n",
    "    You will be provided the log entries by triple backticks\n",
    "    ```\n",
    "    {log_content} \n",
    "    ```\n",
    "    Strictly Ignore any warning from log entries\n",
    "    Extract all SQL Query used from logs in JSON FORMAT\n",
    "    \"\"\"\n",
    "    # print(prompt)\n",
    "    result = gemini_flash.invoke(prompt).content\n",
    "    print(result)\n"
   ]
  },
  {
   "cell_type": "code",
   "execution_count": null,
   "id": "5ff0d152-d3d8-4571-893c-dd758c567d1b",
   "metadata": {},
   "outputs": [],
   "source": []
  }
 ],
 "metadata": {
  "environment": {
   "kernel": "log-analyser",
   "name": "tf2-gpu.2-8.m120",
   "type": "gcloud",
   "uri": "us-docker.pkg.dev/deeplearning-platform-release/gcr.io/tf2-gpu.2-8:m120"
  },
  "kernelspec": {
   "display_name": "log-analyser",
   "language": "python",
   "name": "log-analyser"
  },
  "language_info": {
   "codemirror_mode": {
    "name": "ipython",
    "version": 3
   },
   "file_extension": ".py",
   "mimetype": "text/x-python",
   "name": "python",
   "nbconvert_exporter": "python",
   "pygments_lexer": "ipython3",
   "version": "3.10.14"
  }
 },
 "nbformat": 4,
 "nbformat_minor": 5
}
